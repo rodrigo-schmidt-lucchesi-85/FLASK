{
 "cells": [
  {
   "cell_type": "markdown",
   "metadata": {},
   "source": [
    "### IMPORT MODULES"
   ]
  },
  {
   "cell_type": "code",
   "execution_count": 36,
   "metadata": {},
   "outputs": [],
   "source": [
    "from flask import Flask, jsonify, request\n",
    "from flask_restful import Api, Resource\n",
    "from mongoengine import * # por nos documentos\n",
    "import bcrypt"
   ]
  },
  {
   "cell_type": "markdown",
   "metadata": {},
   "source": [
    "---\n",
    "### CREATE DATABASE"
   ]
  },
  {
   "cell_type": "code",
   "execution_count": 37,
   "metadata": {},
   "outputs": [],
   "source": [
    "connect('FLEX_DATABASE', host='localhost', port=27017)  # Create a Database\n",
    "\n",
    "class User(Document):\n",
    "    username = StringField(required=True, max_length=100)\n",
    "    password = StringField(required=True,max_length=20)\n",
    "    \n",
    "class News(Document):\n",
    "    username = StringField(required=True, max_length=100)\n",
    "    news_title = StringField(required=True,max_length=200)\n",
    "    news_author = StringField(required=True,max_length=200)\n",
    "    news_content = StringField(required=True,max_length=None)\n",
    "    \n",
    "    meta = {'indexes': [\n",
    "        {'fields': ['$news_title', \"$news_author\", \"$news_content\"],\n",
    "         'default_language': 'english',\n",
    "         'weights': {'news_title': 10, 'news_author': 7, 'news_content': 3}\n",
    "        }\n",
    "    ]}\n"
   ]
  },
  {
   "cell_type": "code",
   "execution_count": 38,
   "metadata": {},
   "outputs": [],
   "source": [
    "app = Flask(__name__)\n",
    "api = Api(app)"
   ]
  },
  {
   "cell_type": "markdown",
   "metadata": {},
   "source": [
    "---\n",
    "### RESOURCE TO REGISTER USER"
   ]
  },
  {
   "cell_type": "code",
   "execution_count": 39,
   "metadata": {},
   "outputs": [],
   "source": [
    "class NewsRegistration(Resource): # Working\n",
    "    def post(self):\n",
    "        # Step 1 is to get posted data by the user\n",
    "        postedData = request.get_json()\n",
    "\n",
    "        # Get the data -> username, password\n",
    "        post_username = postedData[\"username\"]\n",
    "        post_password = postedData[\"password\"]\n",
    "        post_news_title = postedData[\"news_title\"]\n",
    "        post_news_author = postedData[\"news_author\"]\n",
    "        post_news_content = postedData[\"news_content\"]\n",
    "\n",
    "        # Store username and password into the database\n",
    "        User(username = post_username, password = post_password).save()\n",
    "        News(username = post_username, news_title = post_news_title, news_author = post_news_author, news_content = post_news_content).save()\n",
    "        \n",
    "        \n",
    "        # Returning JSON file\n",
    "        returningJsonFile = {\n",
    "            \"status\": 201,\n",
    "            \"msg\": \"Welcome\"+\" \"+ post_username +\" \"+\". You successfully registered the news!\"\n",
    "        }\n",
    "        return jsonify(returningJsonFile)"
   ]
  },
  {
   "cell_type": "markdown",
   "metadata": {},
   "source": [
    "---\n",
    "### RESOURCE TO REGISTER USER's NEWS"
   ]
  },
  {
   "cell_type": "code",
   "execution_count": 40,
   "metadata": {},
   "outputs": [],
   "source": [
    "class QueryNews(Resource):\n",
    "    def post(self):\n",
    "\n",
    "        # Get Data\n",
    "        postedData = request.get_json()\n",
    "\n",
    "        post_username = postedData[\"username\"]\n",
    "        post_password = postedData[\"password\"]\n",
    "        post_search = postedData[\"search\"]\n",
    "        option = postedData[\"option\"]\n",
    "        \n",
    "        if post_password == User.objects(username=post_username)[0].password:\n",
    "            \n",
    "            document = News.objects(username=post_username).search_text(post_search).first()\n",
    "            \n",
    "            if option == 'show':\n",
    "\n",
    "                if document is None:\n",
    "            \n",
    "                    returningJsonFile = {\n",
    "                        \"status\": 404,\n",
    "                        \"msg\": \"File not found\"                \n",
    "                    }\n",
    "                    return jsonify(returningJsonFile)\n",
    "                    \n",
    "                else:\n",
    "\n",
    "                    returningJsonFile = {\n",
    "                        \"status\": 200,\n",
    "                        \"msg\": \"The file found to the performed search:\",\n",
    "                        \"news_title\": document.to_json()\n",
    "                    }\n",
    "                    return jsonify(returningJsonFile)\n",
    "            \n",
    "            elif option == 'delete':\n",
    "\n",
    "                if document is None:\n",
    "            \n",
    "                    returningJsonFile = {\n",
    "                        \"status\": 404,\n",
    "                        \"msg\": \"File not found\"                \n",
    "                    }\n",
    "                    return jsonify(returningJsonFile)\n",
    "\n",
    "                else:\n",
    "\n",
    "                    documentDeleted = document\n",
    "                    document.delete()\n",
    "                    \n",
    "                    returningJsonFile = {\n",
    "                        \"status\": 200,\n",
    "                        \"msg\": \"The file found to be deleted:\",\n",
    "                        \"news_title\": documentDeleted.to_json()\n",
    "                    }\n",
    "                    return jsonify(returningJsonFile)\n",
    "            \n",
    "            else: \n",
    "                \n",
    "                returningJsonFile = {\n",
    "                    \"status\": 301,\n",
    "                    \"msg\": \"Wrong option!\"\n",
    "                }\n",
    "                return jsonify(returningJsonFile)\n",
    "                \n",
    "        \n",
    "        else:\n",
    "            \n",
    "            returningJsonFile = {\n",
    "                \"status\": 301,\n",
    "                \"msg\": \"Wrong password!\"\n",
    "            }\n",
    "            return jsonify(returningJsonFile)"
   ]
  },
  {
   "cell_type": "markdown",
   "metadata": {},
   "source": [
    "---\n",
    "### SEARCHING NEWS WITH ONE FIELD"
   ]
  },
  {
   "cell_type": "code",
   "execution_count": 41,
   "metadata": {},
   "outputs": [],
   "source": [
    "class SearchNews(Resource):\n",
    "    def post(self):\n",
    "\n",
    "        # Get Data\n",
    "        postedData = request.get_json()\n",
    "        post_search = postedData[\"search\"]\n",
    "\n",
    "        document = News.objects.search_text(post_search).first()\n",
    "\n",
    "        if document is None:\n",
    "            \n",
    "            returningJsonFile = {\n",
    "                \"status\": 404,\n",
    "                \"msg\": \"File not found\"                \n",
    "            }\n",
    "            return jsonify(returningJsonFile)\n",
    "\n",
    "        else:\n",
    "\n",
    "            returningJsonFile = {\n",
    "            \"status\": 200,\n",
    "            \"msg\": \"The file found to the performed search:\",\n",
    "            \"news_title\": document.to_json()\n",
    "            }\n",
    "            return jsonify(returningJsonFile)\n",
    "        \n",
    "        "
   ]
  },
  {
   "cell_type": "code",
   "execution_count": 42,
   "metadata": {},
   "outputs": [],
   "source": [
    "api.add_resource(NewsRegistration, '/newsRegistration')\n",
    "api.add_resource(QueryNews, '/queryNews')\n",
    "api.add_resource(SearchNews, '/searchNews')"
   ]
  },
  {
   "cell_type": "code",
   "execution_count": 43,
   "metadata": {},
   "outputs": [
    {
     "name": "stdout",
     "output_type": "stream",
     "text": "* Serving Flask app \"__main__\" (lazy loading)\n * Environment: production\n   WARNING: This is a development server. Do not use it in a production deployment.\n   Use a production WSGI server instead.\n * Debug mode: off\n * Running on http://0.0.0.0:5000/ (Press CTRL+C to quit)\n127.0.0.1 - - [14/Jan/2020 10:50:51] \"POST /queryNews HTTP/1.1\" 200 -\n127.0.0.1 - - [14/Jan/2020 10:51:01] \"POST /queryNews HTTP/1.1\" 200 -\n"
    }
   ],
   "source": [
    "if __name__ == \"__main__\":\n",
    "    app.run(host='0.0.0.0')"
   ]
  },
  {
   "cell_type": "code",
   "execution_count": null,
   "metadata": {},
   "outputs": [],
   "source": []
  }
 ],
 "metadata": {
  "kernelspec": {
   "display_name": "Python 3",
   "language": "python",
   "name": "python3"
  },
  "language_info": {
   "codemirror_mode": {
    "name": "ipython",
    "version": 3
   },
   "file_extension": ".py",
   "mimetype": "text/x-python",
   "name": "python",
   "nbconvert_exporter": "python",
   "pygments_lexer": "ipython3",
   "version": "3.6.9-final"
  }
 },
 "nbformat": 4,
 "nbformat_minor": 4
}